{
 "cells": [
  {
   "cell_type": "code",
   "execution_count": null,
   "id": "8e924170",
   "metadata": {},
   "outputs": [],
   "source": [
    "# import required packages\n",
    "\n",
    "import numpy as np\n",
    "import matplotlib.pyplot as plt\n",
    "import scipy.io\n",
    "import pickle\n",
    "from sklearn.model_selection import train_test_split\n",
    "from ml_utils.models import S2S\n",
    "from ml_utils.tools import split_cycles, new_mape"
   ]
  },
  {
   "cell_type": "code",
   "execution_count": null,
   "id": "2c7ef0b4",
   "metadata": {},
   "outputs": [],
   "source": [
    "# please make sure the TDS file \"Degradation_Prediction_Dataset_ISEA.mat\" is in the \"data\" folder\n",
    "# load the original TDS file data\n",
    "\n",
    "mat = scipy.io.loadmat('data/Degradation_Prediction_Dataset_ISEA.mat')\n",
    "data0 = mat['TDS'][0]\n",
    "\n",
    "with open('data/baumhofer_ir_interpolated.pkl','rb') as f:\n",
    "    ir_interpolated = pickle.load(f)"
   ]
  },
  {
   "cell_type": "code",
   "execution_count": null,
   "id": "1aa30a4f",
   "metadata": {},
   "outputs": [],
   "source": [
    "# format the trajectory data once for every cell and store in a list\n",
    "# then the full trajectory data is sampled at every 5 cycles in accordance to the paper\n",
    "\n",
    "full_capa_traj = []\n",
    "for r in range(113, 10782, 227):\n",
    "    full_capa_traj.append(np.concatenate((data0[r][3], data0[r][5]), axis=None))   \n",
    "full_ir_traj=[]\n",
    "for ind, val in enumerate(ir_interpolated.keys()):\n",
    "    full_ir_traj.append(ir_interpolated[val]['IR'][:,1][::5])"
   ]
  },
  {
   "cell_type": "code",
   "execution_count": null,
   "id": "9db746d1",
   "metadata": {},
   "outputs": [],
   "source": [
    "# split the trajectory data into known cycles and the rest which are to be predicted\n",
    "# specify there are 47 cells in total and 100 known cycles \n",
    "\n",
    "X_capa, y_capa = split_cycles(47, 100, full_capa_traj)\n",
    "X_ir, y_ir = split_cycles(47, 100, full_ir_traj)"
   ]
  },
  {
   "cell_type": "code",
   "execution_count": null,
   "id": "acc55c15",
   "metadata": {},
   "outputs": [],
   "source": [
    "# split the date into training and testing sets\n",
    "\n",
    "X_capa_train, X_capa_test, y_capa_train, y_capa_test = train_test_split(X_capa, y_capa, test_size=0.2, random_state=42)\n",
    "X_ir_train, X_ir_test, y_ir_train, y_ir_test = train_test_split(X_ir, y_ir, test_size=0.2, random_state=42)"
   ]
  },
  {
   "cell_type": "code",
   "execution_count": null,
   "id": "b3562176",
   "metadata": {},
   "outputs": [],
   "source": [
    "# generate and compile the model \n",
    "\n",
    "m = S2S(X_capa.shape[2], y_capa.shape[2], 100)\n",
    "m.compile(optimizer='Adam', loss='mae')"
   ]
  },
  {
   "cell_type": "code",
   "execution_count": null,
   "id": "c6cb4308",
   "metadata": {},
   "outputs": [],
   "source": [
    "# train the model seperately for capacity and IR trajectory predictions, make predictions and compute MAPE\n",
    "\n",
    "m_capa_history = m.fit(X_capa_train, y_capa_train, batch_size=100, epochs=100, validation_split=0.2)\n",
    "y_capa_train_Predicted = m.predict(X_capa_train)\n",
    "y_capa_test_predicted = m.predict(X_capa_test)\n",
    "capa_train_mape = new_mape(y_capa_train, y_capa_train_Predicted)\n",
    "capa_test_mape = new_mape(y_capa_test, y_capa_test_predicted)\n",
    "\n",
    "m_ir_history = m.fit(X_ir_train, y_ir_train, batch_size=100, epochs=100, validation_split=0.2)\n",
    "y_ir_train_Predicted = m.predict(X_ir_train)\n",
    "y_ir_test_predicted = m.predict(X_ir_test)\n",
    "ir_train_mape = new_mape(y_ir_train, y_ir_train_Predicted)\n",
    "ir_test_mape = new_mape(y_ir_test, y_ir_test_predicted)"
   ]
  },
  {
   "cell_type": "code",
   "execution_count": null,
   "id": "090132d1",
   "metadata": {},
   "outputs": [],
   "source": [
    "# plot the training results\n",
    "\n",
    "fig, ax = plt.subplots(2, 1)\n",
    "ax[0].plot(m_capa_history.history['loss'])\n",
    "ax[0].set_xlabel('epochs')\n",
    "ax[0].set_ylabel('MAE loss')\n",
    "ax[0].legend(['capacity'])\n",
    "ax[1].plot(m_ir_history.history['loss'])\n",
    "ax[1].set_xlabel('epochs')\n",
    "ax[1].set_ylabel('MAE loss')\n",
    "ax[1].legend(['IR'])"
   ]
  },
  {
   "cell_type": "code",
   "execution_count": null,
   "id": "be7f7986",
   "metadata": {},
   "outputs": [],
   "source": [
    "# print the MAPE results\n",
    "\n",
    "print('Training MAPE for capacity: ', capa_train_mape)\n",
    "print('Testing MAPE for capacity: ', capa_test_mape)\n",
    "print('Training MAPE for IR: ', ir_train_mape)\n",
    "print('Testing MAPE for IR: ', ir_test_mape)"
   ]
  },
  {
   "cell_type": "code",
   "execution_count": null,
   "id": "76a241c5",
   "metadata": {},
   "outputs": [],
   "source": []
  }
 ],
 "metadata": {
  "kernelspec": {
   "display_name": "Python 3",
   "language": "python",
   "name": "python3"
  },
  "language_info": {
   "codemirror_mode": {
    "name": "ipython",
    "version": 3
   },
   "file_extension": ".py",
   "mimetype": "text/x-python",
   "name": "python",
   "nbconvert_exporter": "python",
   "pygments_lexer": "ipython3",
   "version": "3.6.13"
  }
 },
 "nbformat": 4,
 "nbformat_minor": 5
}

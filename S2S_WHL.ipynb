{
 "cells": [
  {
   "cell_type": "code",
   "execution_count": 2,
   "id": "de68f1ce",
   "metadata": {},
   "outputs": [],
   "source": [
    "# import required packages\n",
    "\n",
    "import numpy as np\n",
    "import matplotlib.pyplot as plt\n",
    "import h5py\n",
    "from ml_utils.models import S2S\n",
    "from ml_utils.tools import new_mape"
   ]
  },
  {
   "cell_type": "code",
   "execution_count": null,
   "id": "18f70782",
   "metadata": {},
   "outputs": [],
   "source": [
    "# please ensure the data files \"S2SLearning_25-Aug-2021_Test_Set.mat\" and \"S2SLearning_25-Aug-2021_Train_Set.mat\" are in the \"data\" folder\n",
    "# please first run the file \"Generating_features_labels_and_training_testing_split.ipynb\" first to generate training and test data\n",
    "# load the data genereated from the \"Generating_features_labels_and_training_testing_split.ipynb\" file\n",
    "\n",
    "X_train_h5 = h5py.File('Lifetime_Prediction_Benchmark16_DEC_2020_Train_features.h5', 'r')\n",
    "y_train_h5 = h5py.File('Lifetime_Prediction_Benchmark16_DEC_2020_Train_labels.h5', 'r')\n",
    "X_test_h5 = h5py.File('Lifetime_Prediction_Benchmark16_DEC_2020_Test_features.h5', 'r')\n",
    "y_test_h5 = h5py.File('Lifetime_Prediction_Benchmark16_DEC_2020_Test_labels.h5', 'r')"
   ]
  },
  {
   "cell_type": "code",
   "execution_count": null,
   "id": "2df065a9",
   "metadata": {},
   "outputs": [],
   "source": [
    "# convert data to numpy arrays\n",
    "\n",
    "X_train, y_train = np.array(X_train_h5['features'][:]), np.array(y_train_h5['labels'][:])\n",
    "X_test, y_test = np.array(X_test_h5['features'][:]), np.array(y_test_h5['labels'][:])"
   ]
  },
  {
   "cell_type": "code",
   "execution_count": null,
   "id": "6913fc6f",
   "metadata": {},
   "outputs": [],
   "source": [
    "# plot the input and output data for a cell\n",
    "\n",
    "fig, ax = plt.subplots(1,2)\n",
    "ax[0].plot(X_train[0,0,:])\n",
    "ax[1].plot(y_train[0,0,:])"
   ]
  },
  {
   "cell_type": "code",
   "execution_count": null,
   "id": "5d82a77a",
   "metadata": {},
   "outputs": [],
   "source": [
    "# generate and compile the model \n",
    "\n",
    "m = S2S(X_train.shape[1], y_train.shape[1], 100)\n",
    "m.compile(optimizer='Adam', loss='mae')\n",
    "m_history = m.fit(X_train, y_train, batch_size=400, epochs=300, validation_split=0.2)\n",
    "m.evaluate(X_test, y_test)"
   ]
  },
  {
   "cell_type": "code",
   "execution_count": null,
   "id": "f1634eca",
   "metadata": {},
   "outputs": [],
   "source": [
    "# plot the training results\n",
    "\n",
    "fig=plt.figure()\n",
    "plt.plot(m_history.history['loss'])\n",
    "plt.xlabel('epochs')\n",
    "plt.ylabel('mae loss')\n",
    "plt.legend(['capacity'])"
   ]
  },
  {
   "cell_type": "code",
   "execution_count": null,
   "id": "b3f14230",
   "metadata": {},
   "outputs": [],
   "source": [
    "# make predictions\n",
    "\n",
    "y_train_Predicted = m.predict(X_train)\n",
    "y_test_predicted = m.predict(X_test)\n",
    "Y_actual = y_train\n",
    "Y_Predicted = y_train_Predicted"
   ]
  },
  {
   "cell_type": "code",
   "execution_count": null,
   "id": "7e24e18d",
   "metadata": {},
   "outputs": [],
   "source": [
    "# print the MAPE results\n",
    "\n",
    "train_mape = new_mape(y_train, y_train_Predicted)\n",
    "test_mape = new_mape(y_test, y_test_predicted)\n",
    "\n",
    "print('Training MAPE for capacity: ', train_mape)\n",
    "print('Testing MAPE for capacity: ', test_mape)"
   ]
  }
 ],
 "metadata": {
  "kernelspec": {
   "display_name": "Python 3",
   "language": "python",
   "name": "python3"
  },
  "language_info": {
   "codemirror_mode": {
    "name": "ipython",
    "version": 3
   },
   "file_extension": ".py",
   "mimetype": "text/x-python",
   "name": "python",
   "nbconvert_exporter": "python",
   "pygments_lexer": "ipython3",
   "version": "3.6.13"
  }
 },
 "nbformat": 4,
 "nbformat_minor": 5
}

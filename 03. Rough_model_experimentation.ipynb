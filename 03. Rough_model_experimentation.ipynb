{
 "cells": [
  {
   "cell_type": "markdown",
   "id": "60abb65f",
   "metadata": {},
   "source": [
    "# Experimenting With 1D CNN on Baumhofer Data\n",
    "All models and their variants should be stored in ./ml_utils/models.py<br>\n",
    "Opening a new notebook for working with the model, separate to the data pre-processing, helps keep things clean and easily accessible for the future."
   ]
  },
  {
   "cell_type": "code",
   "execution_count": 18,
   "id": "863c96b5",
   "metadata": {},
   "outputs": [],
   "source": [
    "import numpy as np\n",
    "import pickle\n",
    "import pandas as pd\n",
    "\n",
    "from tensorflow.keras.callbacks import LearningRateScheduler\n",
    "\n",
    "from ml_utils import models, tools"
   ]
  },
  {
   "cell_type": "code",
   "execution_count": 13,
   "id": "add41a5b",
   "metadata": {},
   "outputs": [],
   "source": [
    "# Make some fake data\n",
    "X_train_sc = np.random.random((4000, 700, 3))\n",
    "y_train = np.random.random((4000, 1))"
   ]
  },
  {
   "cell_type": "code",
   "execution_count": 12,
   "id": "262d5b6d",
   "metadata": {},
   "outputs": [],
   "source": [
    "model = models.build_convnet_model(X_in=X_train_sc, loss='mse', n_outputs=1)\n",
    "#model.summary()"
   ]
  },
  {
   "cell_type": "code",
   "execution_count": 19,
   "id": "9331c3dc",
   "metadata": {},
   "outputs": [],
   "source": [
    "verbose = 1\n",
    "callbacks = [LearningRateScheduler(tools.lr_scheduler, verbose=0)]\n",
    "\n",
    "history = model.fit(X_train_sc, \n",
    "                    y_train,\n",
    "                    callbacks=callbacks,\n",
    "                    batch_size=512,\n",
    "                    epochs=200,    \n",
    "                    shuffle=True,\n",
    "                    verbose=verbose)"
   ]
  },
  {
   "cell_type": "markdown",
   "id": "d3ec42a5",
   "metadata": {},
   "source": [
    "### Load pre-processed Baumhofer data from file"
   ]
  },
  {
   "cell_type": "code",
   "execution_count": 17,
   "id": "4694813d",
   "metadata": {},
   "outputs": [],
   "source": [
    "# ..."
   ]
  },
  {
   "cell_type": "markdown",
   "id": "2dfe19bf",
   "metadata": {},
   "source": [
    "### Train the model"
   ]
  },
  {
   "cell_type": "code",
   "execution_count": null,
   "id": "8b99e1b8",
   "metadata": {},
   "outputs": [],
   "source": [
    "model = build_convnet_model(n_outputs=1)\n",
    "\n",
    "target_idx = 2\n",
    "verbose = 0\n",
    "callbacks = [LearningRateScheduler(lr_scheduler, verbose=verbose)]\n",
    "history = model.fit(X_train_sc, \n",
    "                    y_train[:, target_idx],\n",
    "                    callbacks=callbacks,\n",
    "                    batch_size=512,\n",
    "                    epochs=200,    \n",
    "                    shuffle=True,\n",
    "                    verbose=verbose)"
   ]
  },
  {
   "cell_type": "markdown",
   "id": "03386ef8",
   "metadata": {},
   "source": [
    "### Evaluate the trained model on train, val and test"
   ]
  },
  {
   "cell_type": "code",
   "execution_count": null,
   "id": "9f10d6a3",
   "metadata": {},
   "outputs": [],
   "source": [
    "model.evaluate(X_train_sc, y_train[:, target_idx])"
   ]
  },
  {
   "cell_type": "code",
   "execution_count": null,
   "id": "dca9d4db",
   "metadata": {},
   "outputs": [],
   "source": [
    "model.evaluate(X_test_sc, y_test[:, target_idx])"
   ]
  },
  {
   "cell_type": "code",
   "execution_count": null,
   "id": "a1ba382a",
   "metadata": {},
   "outputs": [],
   "source": [
    "model.evaluate(X_val_sc, y_val[:, target_idx])"
   ]
  },
  {
   "cell_type": "markdown",
   "id": "e00561ab",
   "metadata": {},
   "source": [
    "### Train predictions"
   ]
  },
  {
   "cell_type": "code",
   "execution_count": null,
   "id": "cd01538e",
   "metadata": {},
   "outputs": [],
   "source": [
    "plt.figure(figsize=(20,5))\n",
    "\n",
    "plt.plot(model.predict(X_train_sc))\n",
    "plt.plot(y_train[:, target_idx])"
   ]
  },
  {
   "cell_type": "markdown",
   "id": "f55dd23c",
   "metadata": {},
   "source": [
    "### Val predictions"
   ]
  },
  {
   "cell_type": "code",
   "execution_count": null,
   "id": "02792eab",
   "metadata": {},
   "outputs": [],
   "source": [
    "plt.figure(figsize=(20,5))\n",
    "\n",
    "plt.plot(model.predict(X_val_sc))\n",
    "plt.plot(y_val[:, target_idx])"
   ]
  },
  {
   "cell_type": "markdown",
   "id": "bbcec650",
   "metadata": {},
   "source": [
    "### Test predictions"
   ]
  },
  {
   "cell_type": "code",
   "execution_count": null,
   "id": "149ff83d",
   "metadata": {},
   "outputs": [],
   "source": [
    "plt.figure(figsize=(20,5))\n",
    "\n",
    "plt.plot(model.predict(X_test_sc))\n",
    "plt.plot(y_test[:, target_idx])"
   ]
  }
 ],
 "metadata": {
  "kernelspec": {
   "display_name": "Python 3 (Spyder)",
   "language": "python3",
   "name": "python3"
  },
  "language_info": {
   "codemirror_mode": {
    "name": "ipython",
    "version": 3
   },
   "file_extension": ".py",
   "mimetype": "text/x-python",
   "name": "python",
   "nbconvert_exporter": "python",
   "pygments_lexer": "ipython3",
   "version": "3.6.8"
  }
 },
 "nbformat": 4,
 "nbformat_minor": 5
}
